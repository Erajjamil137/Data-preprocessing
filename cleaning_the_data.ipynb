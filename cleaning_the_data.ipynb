{
  "nbformat": 4,
  "nbformat_minor": 0,
  "metadata": {
    "colab": {
      "provenance": [],
      "authorship_tag": "ABX9TyMQB//bmilqS6PiMNbm92ig",
      "include_colab_link": true
    },
    "kernelspec": {
      "name": "python3",
      "display_name": "Python 3"
    },
    "language_info": {
      "name": "python"
    }
  },
  "cells": [
    {
      "cell_type": "markdown",
      "metadata": {
        "id": "view-in-github",
        "colab_type": "text"
      },
      "source": [
        "<a href=\"https://colab.research.google.com/github/Erajjamil137/Data-preprocessing/blob/main/cleaning_the_data.ipynb\" target=\"_parent\"><img src=\"https://colab.research.google.com/assets/colab-badge.svg\" alt=\"Open In Colab\"/></a>"
      ]
    },
    {
      "cell_type": "code",
      "execution_count": 15,
      "metadata": {
        "colab": {
          "base_uri": "https://localhost:8080/"
        },
        "id": "OyCZlGHm0Ekr",
        "outputId": "dce76b64-956f-441b-811b-c19a4bc73a9d"
      },
      "outputs": [
        {
          "output_type": "stream",
          "name": "stdout",
          "text": [
            "       Name   Age  Score    Salary  Age_ffill  Score_bfill  Salary_ffill\n",
            "0      Eraj  21.0   98.0  520000.0       21.0         98.0      520000.0\n",
            "1      Taha   NaN   90.0       NaN       21.0         90.0      520000.0\n",
            "2   Aleezza  21.0    NaN   61000.0       21.0         85.0       61000.0\n",
            "3  Hunniyah  23.0   85.0       NaN       23.0         85.0       61000.0\n",
            "4  Abdullah   NaN   92.0  480000.0       23.0         92.0      480000.0\n"
          ]
        },
        {
          "output_type": "stream",
          "name": "stderr",
          "text": [
            "<ipython-input-15-f74ec87b5f44>:16: FutureWarning: Series.fillna with 'method' is deprecated and will raise in a future version. Use obj.ffill() or obj.bfill() instead.\n",
            "  df['Age_ffill'] = df['Age'].fillna(method='ffill')   # Forward fill for 'Age'\n",
            "<ipython-input-15-f74ec87b5f44>:17: FutureWarning: Series.fillna with 'method' is deprecated and will raise in a future version. Use obj.ffill() or obj.bfill() instead.\n",
            "  df['Score_bfill'] = df['Score'].fillna(method='bfill') # Backward fill for 'Score'\n",
            "<ipython-input-15-f74ec87b5f44>:18: FutureWarning: Series.fillna with 'method' is deprecated and will raise in a future version. Use obj.ffill() or obj.bfill() instead.\n",
            "  df['Salary_ffill'] = df['Salary'].fillna(method='ffill') # Forward fill for 'Salary'\n"
          ]
        }
      ],
      "source": [
        "import pandas as pd\n",
        "import numpy as np\n",
        "\n",
        "# Sample data with names, ages, scores, and salaries\n",
        "data = {\n",
        "    'Name': ['Eraj', 'Taha', 'Aleezza', 'Hunniyah', 'Abdullah'],\n",
        "    'Age': [21, np.nan, 21, 23, np.nan],\n",
        "    'Score': [98, 90, np.nan, 85, 92],\n",
        "    'Salary': [520000, np.nan, 61000, np.nan, 480000]\n",
        "}\n",
        "\n",
        "# Create a DataFrame\n",
        "df = pd.DataFrame(data)\n",
        "\n",
        "# Fill missing values using forward and backward fill methods\n",
        "df['Age_ffill'] = df['Age'].fillna(method='ffill')   # Forward fill for 'Age'\n",
        "df['Score_bfill'] = df['Score'].fillna(method='bfill') # Backward fill for 'Score'\n",
        "df['Salary_ffill'] = df['Salary'].fillna(method='ffill') # Forward fill for 'Salary'\n",
        "\n",
        "# Display the resulting DataFrame with filled values\n",
        "print(df)\n"
      ]
    },
    {
      "cell_type": "code",
      "source": [
        "import pandas as pd\n",
        "import numpy as np\n",
        "\n",
        "# Sample dataset with missing values\n",
        "data = {\n",
        "    'Name': ['Eraj', 'Taha', 'Aleezza', 'Hunniyah', 'Abdullah'],\n",
        "    'Age': [21, np.nan, 21, 23, np.nan],\n",
        "    'Score': [98, 90, np.nan, 85, 92],\n",
        "    'Salary': [52000, np.nan, 61000, np.nan, 48000]\n",
        "}\n",
        "df = pd.DataFrame(data)\n",
        "\n",
        "# Check for missing values\n",
        "print(\"Missing values in each column:\")\n",
        "print(df.isnull().sum())\n"
      ],
      "metadata": {
        "colab": {
          "base_uri": "https://localhost:8080/"
        },
        "id": "aVZppils2C_a",
        "outputId": "424191b5-aad1-4b0a-f903-d2ba8806afda"
      },
      "execution_count": 4,
      "outputs": [
        {
          "output_type": "stream",
          "name": "stdout",
          "text": [
            "Missing values in each column:\n",
            "Name      0\n",
            "Age       2\n",
            "Score     1\n",
            "Salary    2\n",
            "dtype: int64\n"
          ]
        }
      ]
    },
    {
      "cell_type": "code",
      "source": [
        "df_cleaned_rows = df.dropna()  # Removes any row with at least one null\n"
      ],
      "metadata": {
        "id": "Pit3n9yO2Jwi"
      },
      "execution_count": 5,
      "outputs": []
    },
    {
      "cell_type": "code",
      "source": [
        "df_cleaned_cols = df.dropna(axis=1)  # Removes columns with any null values\n"
      ],
      "metadata": {
        "id": "coTuTuRU2Ok1"
      },
      "execution_count": 6,
      "outputs": []
    },
    {
      "cell_type": "code",
      "source": [
        "df['Age'].fillna(25, inplace=True)  # Fill missing ages with 25\n"
      ],
      "metadata": {
        "colab": {
          "base_uri": "https://localhost:8080/"
        },
        "id": "XiXUxfyo2TE0",
        "outputId": "7e28a127-2e65-4f2f-849d-d9ac9e4a3118"
      },
      "execution_count": 7,
      "outputs": [
        {
          "output_type": "stream",
          "name": "stderr",
          "text": [
            "<ipython-input-7-fc6c890b2e7f>:1: FutureWarning: A value is trying to be set on a copy of a DataFrame or Series through chained assignment using an inplace method.\n",
            "The behavior will change in pandas 3.0. This inplace method will never work because the intermediate object on which we are setting values always behaves as a copy.\n",
            "\n",
            "For example, when doing 'df[col].method(value, inplace=True)', try using 'df.method({col: value}, inplace=True)' or df[col] = df[col].method(value) instead, to perform the operation inplace on the original object.\n",
            "\n",
            "\n",
            "  df['Age'].fillna(25, inplace=True)  # Fill missing ages with 25\n"
          ]
        }
      ]
    },
    {
      "cell_type": "code",
      "source": [
        "df['Age_ffill'] = df['Age'].fillna(method='ffill')  # Forward fill\n",
        "df['Score_bfill'] = df['Score'].fillna(method='bfill')  # Backward fill\n"
      ],
      "metadata": {
        "colab": {
          "base_uri": "https://localhost:8080/"
        },
        "id": "eBklTGde2XO1",
        "outputId": "1db479f2-c7a0-426d-b1c2-bf2c56cb8689"
      },
      "execution_count": 8,
      "outputs": [
        {
          "output_type": "stream",
          "name": "stderr",
          "text": [
            "<ipython-input-8-239c36651a87>:1: FutureWarning: Series.fillna with 'method' is deprecated and will raise in a future version. Use obj.ffill() or obj.bfill() instead.\n",
            "  df['Age_ffill'] = df['Age'].fillna(method='ffill')  # Forward fill\n",
            "<ipython-input-8-239c36651a87>:2: FutureWarning: Series.fillna with 'method' is deprecated and will raise in a future version. Use obj.ffill() or obj.bfill() instead.\n",
            "  df['Score_bfill'] = df['Score'].fillna(method='bfill')  # Backward fill\n"
          ]
        }
      ]
    },
    {
      "cell_type": "code",
      "source": [
        "df['Age'].fillna(df['Age'].mean(), inplace=True)   # Fill with mean\n",
        "df['Salary'].fillna(df['Salary'].median(), inplace=True)  # Fill with median\n",
        "df['Score'].fillna(df['Score'].mode()[0], inplace=True)  # Fill with mode\n"
      ],
      "metadata": {
        "colab": {
          "base_uri": "https://localhost:8080/"
        },
        "id": "aSWvLI1X2b6M",
        "outputId": "8841abbd-847d-4da0-f1b2-4a0fae6a0330"
      },
      "execution_count": 9,
      "outputs": [
        {
          "output_type": "stream",
          "name": "stderr",
          "text": [
            "<ipython-input-9-769ee2ac6415>:1: FutureWarning: A value is trying to be set on a copy of a DataFrame or Series through chained assignment using an inplace method.\n",
            "The behavior will change in pandas 3.0. This inplace method will never work because the intermediate object on which we are setting values always behaves as a copy.\n",
            "\n",
            "For example, when doing 'df[col].method(value, inplace=True)', try using 'df.method({col: value}, inplace=True)' or df[col] = df[col].method(value) instead, to perform the operation inplace on the original object.\n",
            "\n",
            "\n",
            "  df['Age'].fillna(df['Age'].mean(), inplace=True)   # Fill with mean\n",
            "<ipython-input-9-769ee2ac6415>:2: FutureWarning: A value is trying to be set on a copy of a DataFrame or Series through chained assignment using an inplace method.\n",
            "The behavior will change in pandas 3.0. This inplace method will never work because the intermediate object on which we are setting values always behaves as a copy.\n",
            "\n",
            "For example, when doing 'df[col].method(value, inplace=True)', try using 'df.method({col: value}, inplace=True)' or df[col] = df[col].method(value) instead, to perform the operation inplace on the original object.\n",
            "\n",
            "\n",
            "  df['Salary'].fillna(df['Salary'].median(), inplace=True)  # Fill with median\n"
          ]
        }
      ]
    },
    {
      "cell_type": "code",
      "source": [
        "df['Age'] = df['Age'].interpolate(method='linear')\n"
      ],
      "metadata": {
        "id": "PdfH2H8b2kLn"
      },
      "execution_count": 10,
      "outputs": []
    },
    {
      "cell_type": "code",
      "source": [
        "print(\"Data after cleaning:\")\n",
        "print(df)\n",
        "print(\"Remaining missing values:\", df.isnull().sum())\n"
      ],
      "metadata": {
        "colab": {
          "base_uri": "https://localhost:8080/"
        },
        "id": "QnEwvg3B2oly",
        "outputId": "ae82d1b3-5626-4aa3-d0ca-0c67485ff0cb"
      },
      "execution_count": 11,
      "outputs": [
        {
          "output_type": "stream",
          "name": "stdout",
          "text": [
            "Data after cleaning:\n",
            "       Name   Age  Score   Salary  Age_ffill  Score_bfill\n",
            "0      Eraj  21.0   98.0  52000.0       21.0         98.0\n",
            "1      Taha  25.0   90.0  52000.0       25.0         90.0\n",
            "2   Aleezza  21.0   85.0  61000.0       21.0         85.0\n",
            "3  Hunniyah  23.0   85.0  52000.0       23.0         85.0\n",
            "4  Abdullah  25.0   92.0  48000.0       25.0         92.0\n",
            "Remaining missing values: Name           0\n",
            "Age            0\n",
            "Score          0\n",
            "Salary         0\n",
            "Age_ffill      0\n",
            "Score_bfill    0\n",
            "dtype: int64\n"
          ]
        }
      ]
    },
    {
      "cell_type": "code",
      "source": [
        "# Sample dataset\n",
        "data = {\n",
        "    'Name': ['Eraj', 'Taha', 'Aleezza', 'Hunniyah', 'Abdullah'],\n",
        "    'Age': [21, np.nan, 21, 23, np.nan],\n",
        "    'Score': [98, 90, np.nan, 85, 92],\n",
        "    'Salary': [520000, np.nan, 61000, np.nan, 480000]\n",
        "}\n",
        "df = pd.DataFrame(data)\n",
        "\n",
        "# Filling missing values\n",
        "df['Age'].fillna(df['Age'].mean(), inplace=True)       # Mean fill for Age\n",
        "df['Salary'] = df['Salary'].interpolate(method='linear')  # Linear interpolation for Salary\n",
        "df['Score'].fillna(df['Score'].bfill(), inplace=True)    # Backward fill for Score\n",
        "\n",
        "# Results\n",
        "print(df)\n"
      ],
      "metadata": {
        "colab": {
          "base_uri": "https://localhost:8080/"
        },
        "id": "EK7Xm6z42s-W",
        "outputId": "46ca8a77-99bd-4f89-a37b-c973d10ae338"
      },
      "execution_count": 14,
      "outputs": [
        {
          "output_type": "stream",
          "name": "stdout",
          "text": [
            "       Name        Age  Score    Salary\n",
            "0      Eraj  21.000000   98.0  520000.0\n",
            "1      Taha  21.666667   90.0  290500.0\n",
            "2   Aleezza  21.000000   85.0   61000.0\n",
            "3  Hunniyah  23.000000   85.0  270500.0\n",
            "4  Abdullah  21.666667   92.0  480000.0\n"
          ]
        },
        {
          "output_type": "stream",
          "name": "stderr",
          "text": [
            "<ipython-input-14-d5ed762035b7>:11: FutureWarning: A value is trying to be set on a copy of a DataFrame or Series through chained assignment using an inplace method.\n",
            "The behavior will change in pandas 3.0. This inplace method will never work because the intermediate object on which we are setting values always behaves as a copy.\n",
            "\n",
            "For example, when doing 'df[col].method(value, inplace=True)', try using 'df.method({col: value}, inplace=True)' or df[col] = df[col].method(value) instead, to perform the operation inplace on the original object.\n",
            "\n",
            "\n",
            "  df['Age'].fillna(df['Age'].mean(), inplace=True)       # Mean fill for Age\n",
            "<ipython-input-14-d5ed762035b7>:13: FutureWarning: A value is trying to be set on a copy of a DataFrame or Series through chained assignment using an inplace method.\n",
            "The behavior will change in pandas 3.0. This inplace method will never work because the intermediate object on which we are setting values always behaves as a copy.\n",
            "\n",
            "For example, when doing 'df[col].method(value, inplace=True)', try using 'df.method({col: value}, inplace=True)' or df[col] = df[col].method(value) instead, to perform the operation inplace on the original object.\n",
            "\n",
            "\n",
            "  df['Score'].fillna(df['Score'].bfill(), inplace=True)    # Backward fill for Score\n"
          ]
        }
      ]
    }
  ]
}