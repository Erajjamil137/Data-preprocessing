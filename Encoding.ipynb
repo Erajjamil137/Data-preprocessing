{
  "nbformat": 4,
  "nbformat_minor": 0,
  "metadata": {
    "colab": {
      "provenance": [],
      "authorship_tag": "ABX9TyOtzSDydN7qaWu10TzNBbhk",
      "include_colab_link": true
    },
    "kernelspec": {
      "name": "python3",
      "display_name": "Python 3"
    },
    "language_info": {
      "name": "python"
    }
  },
  "cells": [
    {
      "cell_type": "markdown",
      "metadata": {
        "id": "view-in-github",
        "colab_type": "text"
      },
      "source": [
        "<a href=\"https://colab.research.google.com/github/Erajjamil137/Machine-learning/blob/main/Encoding.ipynb\" target=\"_parent\"><img src=\"https://colab.research.google.com/assets/colab-badge.svg\" alt=\"Open In Colab\"/></a>"
      ]
    },
    {
      "cell_type": "code",
      "execution_count": 2,
      "metadata": {
        "colab": {
          "base_uri": "https://localhost:8080/"
        },
        "id": "ki_88RxnKmZ3",
        "outputId": "71aa1774-3f87-4920-9f33-ce75facf3c8d"
      },
      "outputs": [
        {
          "output_type": "stream",
          "name": "stdout",
          "text": [
            "Original DataFrame:\n",
            "      Product  Sales\n",
            "0      Laptop   1200\n",
            "1  Smartphone    800\n",
            "2      Tablet    400\n",
            "3  Smartphone    850\n",
            "4      Laptop   1300\n",
            "5      Laptop   1150\n",
            "6      Tablet    450\n",
            "7  Smartwatch    300\n",
            "8      Tablet    500\n",
            "9  Smartwatch    320\n",
            "\n",
            "Target Encoded DataFrame:\n",
            "      Product  Sales  Product_Target_Encoded\n",
            "0      Laptop   1200                 1216.67\n",
            "1  Smartphone    800                  825.00\n",
            "2      Tablet    400                  450.00\n",
            "3  Smartphone    850                  825.00\n",
            "4      Laptop   1300                 1216.67\n",
            "5      Laptop   1150                 1216.67\n",
            "6      Tablet    450                  450.00\n",
            "7  Smartwatch    300                  310.00\n",
            "8      Tablet    500                  450.00\n",
            "9  Smartwatch    320                  310.00\n"
          ]
        }
      ],
      "source": [
        "# Target Encoding\n",
        "# Replaces each category with the mean of the target variable for that category.\n",
        "import pandas as pd\n",
        "\n",
        "# Sample data\n",
        "data = {\n",
        "    'Product': ['Laptop', 'Smartphone', 'Tablet', 'Smartphone', 'Laptop', 'Laptop', 'Tablet', 'Smartwatch', 'Tablet', 'Smartwatch'],\n",
        "    'Sales': [1200, 800, 400, 850, 1300, 1150, 450, 300, 500, 320]\n",
        "}\n",
        "df = pd.DataFrame(data)\n",
        "\n",
        "# Display the original DataFrame\n",
        "print(\"Original DataFrame:\")\n",
        "print(df)\n",
        "\n",
        "# Calculate the mean sales for each category in 'Product'\n",
        "mean_sales = round(df.groupby('Product')['Sales'].mean(), 2)\n",
        "\n",
        "# Map the mean sales back to the original DataFrame\n",
        "df['Product_Target_Encoded'] = df['Product'].map(mean_sales)\n",
        "\n",
        "# Display the DataFrame with the target encoded column\n",
        "print(\"\\nTarget Encoded DataFrame:\")\n",
        "print(df)\n"
      ]
    }
  ]
}